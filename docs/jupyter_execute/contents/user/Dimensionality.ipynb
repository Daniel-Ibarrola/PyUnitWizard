{
 "cells": [
  {
   "cell_type": "code",
   "execution_count": 1,
   "metadata": {},
   "outputs": [],
   "source": [
    "%load_ext autoreload\n",
    "%autoreload 2"
   ]
  },
  {
   "cell_type": "markdown",
   "metadata": {},
   "source": [
    "# Dimensionality and Compatibility\n",
    "\n",
    "The dimensional analysis of a quantity, no matter the form, can be performed invoking the method `pyunitwizard.dimensionality()`:"
   ]
  },
  {
   "cell_type": "code",
   "execution_count": 2,
   "metadata": {},
   "outputs": [],
   "source": [
    "import pyunitwizard as puw\n",
    "puw.configure.load_library(['pint', 'openmm.unit'])"
   ]
  },
  {
   "cell_type": "code",
   "execution_count": 3,
   "metadata": {},
   "outputs": [
    {
     "data": {
      "text/plain": [
       "{'[L]': 2.0,\n",
       " '[M]': 1.0,\n",
       " '[T]': -2.0,\n",
       " '[K]': 0,\n",
       " '[mol]': -1.0,\n",
       " '[A]': 0,\n",
       " '[Cd]': 0}"
      ]
     },
     "execution_count": 3,
     "metadata": {},
     "output_type": "execute_result"
    }
   ],
   "source": [
    "q = puw.quantity(1.4, 'kJ/mol', form='openmm.unit')\n",
    "puw.get_dimensionality(q)"
   ]
  },
  {
   "cell_type": "markdown",
   "metadata": {},
   "source": [
    "Let's see a second example:"
   ]
  },
  {
   "cell_type": "code",
   "execution_count": 4,
   "metadata": {},
   "outputs": [
    {
     "data": {
      "text/plain": [
       "{'[L]': -1, '[M]': 1, '[T]': -2, '[K]': 0, '[mol]': 0, '[A]': 0, '[Cd]': 0}"
      ]
     },
     "execution_count": 4,
     "metadata": {},
     "output_type": "execute_result"
    }
   ],
   "source": [
    "q = puw.quantity('3.5N/(2.0nm**2)')\n",
    "puw.get_dimensionality(q)"
   ]
  },
  {
   "cell_type": "markdown",
   "metadata": {},
   "source": [
    "Where dimensions correspond to the following fundamental quantities:"
   ]
  },
  {
   "cell_type": "markdown",
   "metadata": {},
   "source": [
    "\n",
    "| Fundamental Quantity | Dimension |\n",
    "| -------------------- | --------- |\n",
    "| Length | [L] |\n",
    "| Mass | [M] |\n",
    "| Time | [T] |\n",
    "| Temperature | [K] |\n",
    "| Substance | [mol] |\n",
    "| Electric Current | [A] |\n",
    "| Luminous Intensity | [Cd] |\n"
   ]
  },
  {
   "cell_type": "markdown",
   "metadata": {},
   "source": [
    "In addition, PyUnitWizard can check the dimensional compatibility between quantities with `pyunitwizard.compatibility()`, again, regardless their pythonic form:"
   ]
  },
  {
   "cell_type": "code",
   "execution_count": 5,
   "metadata": {},
   "outputs": [
    {
     "data": {
      "text/plain": [
       "True"
      ]
     },
     "execution_count": 5,
     "metadata": {},
     "output_type": "execute_result"
    }
   ],
   "source": [
    "q1 = puw.quantity(1.0, 'meter', form='openmm.unit')\n",
    "q2 = puw.quantity(1.0, 'centimeter', form='openmm.unit')\n",
    "\n",
    "puw.compatibility(q1, q2)"
   ]
  },
  {
   "cell_type": "code",
   "execution_count": 6,
   "metadata": {},
   "outputs": [
    {
     "data": {
      "text/plain": [
       "True"
      ]
     },
     "execution_count": 6,
     "metadata": {},
     "output_type": "execute_result"
    }
   ],
   "source": [
    "q1 = puw.quantity(1.0, 'kJ/mol', form='openmm.unit')\n",
    "q2 = puw.quantity(1.0, 'kcal/mol', form='pint')\n",
    "\n",
    "puw.compatibility(q1, q2)"
   ]
  },
  {
   "cell_type": "code",
   "execution_count": 7,
   "metadata": {},
   "outputs": [
    {
     "data": {
      "text/plain": [
       "True"
      ]
     },
     "execution_count": 7,
     "metadata": {},
     "output_type": "execute_result"
    }
   ],
   "source": [
    "q1 = puw.quantity(1.0, 'nm**3', form='pint')\n",
    "q2 = puw.quantity(1.0, 'litre', form='pint')\n",
    "\n",
    "puw.compatibility(q1, q2)"
   ]
  },
  {
   "cell_type": "code",
   "execution_count": 8,
   "metadata": {},
   "outputs": [
    {
     "data": {
      "text/plain": [
       "False"
      ]
     },
     "execution_count": 8,
     "metadata": {},
     "output_type": "execute_result"
    }
   ],
   "source": [
    "q1 = puw.quantity(1.0, 'nm**3', form='pint')\n",
    "q2 = puw.quantity(1.0, 'ps', form='openmm.unit')\n",
    "\n",
    "puw.compatibility(q1, q2)"
   ]
  },
  {
   "cell_type": "code",
   "execution_count": 9,
   "metadata": {},
   "outputs": [
    {
     "data": {
      "text/plain": [
       "True"
      ]
     },
     "execution_count": 9,
     "metadata": {},
     "output_type": "execute_result"
    }
   ],
   "source": [
    "q1 = puw.quantity(1.0, 'degrees', form='pint')\n",
    "q2 = puw.quantity(1.0, 'radians', form='pint')\n",
    "\n",
    "puw.compatibility(q1, q2)"
   ]
  },
  {
   "cell_type": "code",
   "execution_count": 10,
   "metadata": {},
   "outputs": [
    {
     "data": {
      "text/plain": [
       "False"
      ]
     },
     "execution_count": 10,
     "metadata": {},
     "output_type": "execute_result"
    }
   ],
   "source": [
    "q1 = puw.quantity(1.0, 'degrees', form='openmm.unit')\n",
    "q2 = puw.quantity(1.0, 'hertzs', form='pint')\n",
    "\n",
    "puw.compatibility(q1, q2)"
   ]
  },
  {
   "cell_type": "code",
   "execution_count": null,
   "metadata": {},
   "outputs": [],
   "source": []
  }
 ],
 "metadata": {
  "kernelspec": {
   "display_name": "Python 3 (ipykernel)",
   "language": "python",
   "name": "python3"
  },
  "language_info": {
   "codemirror_mode": {
    "name": "ipython",
    "version": 3
   },
   "file_extension": ".py",
   "mimetype": "text/x-python",
   "name": "python",
   "nbconvert_exporter": "python",
   "pygments_lexer": "ipython3",
   "version": "3.7.12"
  }
 },
 "nbformat": 4,
 "nbformat_minor": 4
}