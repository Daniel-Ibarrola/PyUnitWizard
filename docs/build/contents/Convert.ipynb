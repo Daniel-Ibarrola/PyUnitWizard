{
 "cells": [
  {
   "cell_type": "code",
   "execution_count": 1,
   "metadata": {
    "execution": {
     "iopub.execute_input": "2021-05-05T21:01:27.988023Z",
     "iopub.status.busy": "2021-05-05T21:01:27.987253Z",
     "iopub.status.idle": "2021-05-05T21:01:27.997252Z",
     "shell.execute_reply": "2021-05-05T21:01:27.997899Z"
    }
   },
   "outputs": [],
   "source": [
    "%load_ext autoreload\n",
    "%autoreload 2"
   ]
  },
  {
   "cell_type": "markdown",
   "metadata": {},
   "source": [
    "# Convert quantities\n",
    "*Text*\n",
    "\n",
    "Text here"
   ]
  },
  {
   "cell_type": "code",
   "execution_count": 2,
   "metadata": {
    "execution": {
     "iopub.execute_input": "2021-05-05T21:01:28.002977Z",
     "iopub.status.busy": "2021-05-05T21:01:28.002163Z",
     "iopub.status.idle": "2021-05-05T21:01:28.353006Z",
     "shell.execute_reply": "2021-05-05T21:01:28.353984Z"
    }
   },
   "outputs": [],
   "source": [
    "import pyunitwizard as puw"
   ]
  },
  {
   "cell_type": "code",
   "execution_count": null,
   "metadata": {},
   "outputs": [],
   "source": []
  },
  {
   "cell_type": "code",
   "execution_count": null,
   "metadata": {},
   "outputs": [],
   "source": []
  }
 ],
 "metadata": {
  "kernelspec": {
   "display_name": "Python 3",
   "language": "python",
   "name": "python3"
  },
  "language_info": {
   "codemirror_mode": {
    "name": "ipython",
    "version": 3
   },
   "file_extension": ".py",
   "mimetype": "text/x-python",
   "name": "python",
   "nbconvert_exporter": "python",
   "pygments_lexer": "ipython3",
   "version": "3.7.10"
  }
 },
 "nbformat": 4,
 "nbformat_minor": 4
}
