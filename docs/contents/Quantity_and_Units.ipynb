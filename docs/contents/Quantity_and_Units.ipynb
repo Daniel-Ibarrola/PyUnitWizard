{
 "cells": [
  {
   "cell_type": "code",
   "execution_count": 1,
   "metadata": {},
   "outputs": [],
   "source": [
    "%load_ext autoreload\n",
    "%autoreload 2"
   ]
  },
  {
   "cell_type": "markdown",
   "metadata": {},
   "source": [
    "# Quantity and Unit\n",
    "*Text*\n",
    "\n",
    "Text here"
   ]
  },
  {
   "cell_type": "code",
   "execution_count": 2,
   "metadata": {},
   "outputs": [],
   "source": [
    "import pyunitwizard as puw\n",
    "puw.load_libraries(['pint', 'simtk.unit'])"
   ]
  },
  {
   "cell_type": "code",
   "execution_count": 3,
   "metadata": {},
   "outputs": [
    {
     "data": {
      "text/html": [
       "3.0 joule"
      ],
      "text/latex": [
       "$3.0\\ \\mathrm{joule}$"
      ],
      "text/plain": [
       "3.0 <Unit('joule')>"
      ]
     },
     "execution_count": 3,
     "metadata": {},
     "output_type": "execute_result"
    }
   ],
   "source": [
    "var = puw.quantity(value=3.0, unit_name='joules', form = 'pint')\n",
    "var"
   ]
  },
  {
   "cell_type": "code",
   "execution_count": 4,
   "metadata": {},
   "outputs": [
    {
     "data": {
      "text/html": [
       "<table><tbody><tr><th>Magnitude</th><td style='text-align:left;'><pre>[0 1 2]</pre></td></tr><tr><th>Units</th><td style='text-align:left;'>angstrom</td></tr></tbody></table>"
      ],
      "text/latex": [
       "$\\begin{pmatrix}0 & 1 & 2\\end{pmatrix}\\ \\mathrm{angstrom}$"
      ],
      "text/plain": [
       "array([0, 1, 2]) <Unit('angstrom')>"
      ]
     },
     "execution_count": 4,
     "metadata": {},
     "output_type": "execute_result"
    }
   ],
   "source": [
    "var = puw.quantity([0,1,2], 'angstroms', 'pint')\n",
    "var"
   ]
  },
  {
   "cell_type": "code",
   "execution_count": 5,
   "metadata": {},
   "outputs": [
    {
     "name": "stdout",
     "output_type": "stream",
     "text": [
      "[0 1 2] angstrom\n"
     ]
    }
   ],
   "source": [
    "print(var)"
   ]
  },
  {
   "cell_type": "code",
   "execution_count": 6,
   "metadata": {},
   "outputs": [],
   "source": [
    "var = puw.quantity(1, 'Å', 'pint')"
   ]
  },
  {
   "cell_type": "code",
   "execution_count": 7,
   "metadata": {},
   "outputs": [
    {
     "data": {
      "text/html": [
       "1 angstrom"
      ],
      "text/latex": [
       "$1\\ \\mathrm{angstrom}$"
      ],
      "text/plain": [
       "1 <Unit('angstrom')>"
      ]
     },
     "execution_count": 7,
     "metadata": {},
     "output_type": "execute_result"
    }
   ],
   "source": [
    "var"
   ]
  },
  {
   "cell_type": "code",
   "execution_count": 8,
   "metadata": {},
   "outputs": [
    {
     "data": {
      "text/html": [
       "1 angstrom"
      ],
      "text/latex": [
       "$1\\ \\mathrm{angstrom}$"
      ],
      "text/plain": [
       "1 <Unit('angstrom')>"
      ]
     },
     "execution_count": 8,
     "metadata": {},
     "output_type": "execute_result"
    }
   ],
   "source": [
    "var"
   ]
  },
  {
   "cell_type": "code",
   "execution_count": 9,
   "metadata": {},
   "outputs": [
    {
     "data": {
      "text/html": [
       "<table><tbody><tr><th>Magnitude</th><td style='text-align:left;'><pre>[[[0.0 0.0 0.0]<br>  [0.0 0.0 0.0]<br>  [0.0 0.0 0.0]<br>  [0.0 0.0 0.0]<br>  [0.0 0.0 0.0]<br>  [0.0 0.0 0.0]]<br><br> [[0.0 0.0 0.0]<br>  [0.0 0.0 0.0]<br>  [0.0 0.0 0.0]<br>  [0.0 0.0 0.0]<br>  [0.0 0.0 0.0]<br>  [0.0 0.0 0.0]]]</pre></td></tr><tr><th>Units</th><td style='text-align:left;'>angstrom</td></tr></tbody></table>"
      ],
      "text/latex": [
       "$arr[,0,:,:] = \\begin{pmatrix}0.0 & 0.0 & 0.0\\\\ \n",
       "0.0 & 0.0 & 0.0\\\\ \n",
       "0.0 & 0.0 & 0.0\\\\ \n",
       "0.0 & 0.0 & 0.0\\\\ \n",
       "0.0 & 0.0 & 0.0\\\\ \n",
       "0.0 & 0.0 & 0.0\\end{pmatrix}\n",
       "arr[,1,:,:] = \\begin{pmatrix}0.0 & 0.0 & 0.0\\\\ \n",
       "0.0 & 0.0 & 0.0\\\\ \n",
       "0.0 & 0.0 & 0.0\\\\ \n",
       "0.0 & 0.0 & 0.0\\\\ \n",
       "0.0 & 0.0 & 0.0\\\\ \n",
       "0.0 & 0.0 & 0.0\\end{pmatrix}\\ \\mathrm{angstrom}$"
      ],
      "text/plain": [
       "array([[[0., 0., 0.],\n",
       "        [0., 0., 0.],\n",
       "        [0., 0., 0.],\n",
       "        [0., 0., 0.],\n",
       "        [0., 0., 0.],\n",
       "        [0., 0., 0.]],\n",
       "\n",
       "       [[0., 0., 0.],\n",
       "        [0., 0., 0.],\n",
       "        [0., 0., 0.],\n",
       "        [0., 0., 0.],\n",
       "        [0., 0., 0.],\n",
       "        [0., 0., 0.]]]) <Unit('angstrom')>"
      ]
     },
     "execution_count": 9,
     "metadata": {},
     "output_type": "execute_result"
    }
   ],
   "source": [
    "import numpy as np\n",
    "var = puw.quantity(np.zeros(shape=[2,6,3]), 'angstroms', 'Pint')\n",
    "var"
   ]
  },
  {
   "cell_type": "code",
   "execution_count": 10,
   "metadata": {},
   "outputs": [
    {
     "data": {
      "text/html": [
       "10.0 angstrom"
      ],
      "text/latex": [
       "$10.0\\ \\mathrm{angstrom}$"
      ],
      "text/plain": [
       "10.0 <Unit('angstrom')>"
      ]
     },
     "execution_count": 10,
     "metadata": {},
     "output_type": "execute_result"
    }
   ],
   "source": [
    "puw.string_to_quantity('10.0 Å')"
   ]
  },
  {
   "cell_type": "code",
   "execution_count": 11,
   "metadata": {},
   "outputs": [
    {
     "data": {
      "text/html": [
       "1.0 mole/liter"
      ],
      "text/latex": [
       "$1.0\\ \\frac{\\mathrm{mole}}{\\mathrm{liter}}$"
      ],
      "text/plain": [
       "1.0 <Unit('mole / liter')>"
      ]
     },
     "execution_count": 11,
     "metadata": {},
     "output_type": "execute_result"
    }
   ],
   "source": [
    "puw.string_to_quantity('1.0 mol/L')"
   ]
  },
  {
   "cell_type": "code",
   "execution_count": 29,
   "metadata": {},
   "outputs": [
    {
     "ename": "KeyError",
     "evalue": "'pint'",
     "output_type": "error",
     "traceback": [
      "\u001b[0;31m---------------------------------------------------------------------------\u001b[0m",
      "\u001b[0;31mKeyError\u001b[0m                                  Traceback (most recent call last)",
      "\u001b[0;32m<ipython-input-29-006807576207>\u001b[0m in \u001b[0;36m<module>\u001b[0;34m\u001b[0m\n\u001b[0;32m----> 1\u001b[0;31m \u001b[0maa\u001b[0m \u001b[0;34m=\u001b[0m \u001b[0mpuw\u001b[0m\u001b[0;34m.\u001b[0m\u001b[0mstring_to_quantity\u001b[0m\u001b[0;34m(\u001b[0m\u001b[0;34m'1.0 kilocalories/mole'\u001b[0m\u001b[0;34m)\u001b[0m\u001b[0;34m\u001b[0m\u001b[0;34m\u001b[0m\u001b[0m\n\u001b[0m",
      "\u001b[0;32m~/Proyectos/PyUnitWizard/pyunitwizard/main.py\u001b[0m in \u001b[0;36mstring_to_quantity\u001b[0;34m(string, to_form, parser)\u001b[0m\n\u001b[1;32m    206\u001b[0m         \u001b[0mparser\u001b[0m \u001b[0;34m=\u001b[0m \u001b[0mto_form\u001b[0m\u001b[0;34m\u001b[0m\u001b[0;34m\u001b[0m\u001b[0m\n\u001b[1;32m    207\u001b[0m \u001b[0;34m\u001b[0m\u001b[0m\n\u001b[0;32m--> 208\u001b[0;31m     \u001b[0moutput\u001b[0m \u001b[0;34m=\u001b[0m \u001b[0mdict_string_to_quantity\u001b[0m\u001b[0;34m[\u001b[0m\u001b[0mparser\u001b[0m\u001b[0;34m]\u001b[0m\u001b[0;34m(\u001b[0m\u001b[0mstring\u001b[0m\u001b[0;34m)\u001b[0m\u001b[0;34m\u001b[0m\u001b[0;34m\u001b[0m\u001b[0m\n\u001b[0m\u001b[1;32m    209\u001b[0m \u001b[0;34m\u001b[0m\u001b[0m\n\u001b[1;32m    210\u001b[0m     \u001b[0;32mif\u001b[0m \u001b[0mparser\u001b[0m \u001b[0;34m!=\u001b[0m \u001b[0mto_form\u001b[0m\u001b[0;34m:\u001b[0m\u001b[0;34m\u001b[0m\u001b[0;34m\u001b[0m\u001b[0m\n",
      "\u001b[0;31mKeyError\u001b[0m: 'pint'"
     ]
    }
   ],
   "source": [
    "aa = puw.string_to_quantity('1.0 kilocalories/mole')"
   ]
  },
  {
   "cell_type": "code",
   "execution_count": 13,
   "metadata": {},
   "outputs": [
    {
     "data": {
      "text/plain": [
       "<UnitsContainer({'[length]': 2, '[mass]': 1, '[substance]': -1, '[time]': -2})>"
      ]
     },
     "execution_count": 13,
     "metadata": {},
     "output_type": "execute_result"
    }
   ],
   "source": [
    "aa.dimensionality"
   ]
  },
  {
   "cell_type": "code",
   "execution_count": 18,
   "metadata": {},
   "outputs": [],
   "source": [
    "dd = aa.dimensionality"
   ]
  },
  {
   "cell_type": "code",
   "execution_count": 19,
   "metadata": {},
   "outputs": [],
   "source": [
    "import pint"
   ]
  },
  {
   "cell_type": "code",
   "execution_count": 27,
   "metadata": {},
   "outputs": [],
   "source": [
    "aa = puw.string_to_quantity('1.0 amu')"
   ]
  },
  {
   "cell_type": "code",
   "execution_count": 28,
   "metadata": {},
   "outputs": [
    {
     "data": {
      "text/plain": [
       "<UnitsContainer({'[mass]': 1})>"
      ]
     },
     "execution_count": 28,
     "metadata": {},
     "output_type": "execute_result"
    }
   ],
   "source": [
    "aa.dimensionality"
   ]
  },
  {
   "cell_type": "code",
   "execution_count": 25,
   "metadata": {},
   "outputs": [
    {
     "data": {
      "text/html": [
       "1.0 elementary_charge"
      ],
      "text/latex": [
       "$1.0\\ \\mathrm{elementary\\_charge}$"
      ],
      "text/plain": [
       "1.0 <Unit('elementary_charge')>"
      ]
     },
     "execution_count": 25,
     "metadata": {},
     "output_type": "execute_result"
    }
   ],
   "source": [
    "aa"
   ]
  },
  {
   "cell_type": "code",
   "execution_count": null,
   "metadata": {},
   "outputs": [],
   "source": []
  }
 ],
 "metadata": {
  "kernelspec": {
   "display_name": "Python 3",
   "language": "python",
   "name": "python3"
  },
  "language_info": {
   "codemirror_mode": {
    "name": "ipython",
    "version": 3
   },
   "file_extension": ".py",
   "mimetype": "text/x-python",
   "name": "python",
   "nbconvert_exporter": "python",
   "pygments_lexer": "ipython3",
   "version": "3.7.9"
  }
 },
 "nbformat": 4,
 "nbformat_minor": 4
}
