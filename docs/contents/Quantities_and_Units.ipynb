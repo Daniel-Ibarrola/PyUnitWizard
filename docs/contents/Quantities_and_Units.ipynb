{
 "cells": [
  {
   "cell_type": "markdown",
   "metadata": {},
   "source": [
    "# Quantities and Units\n",
    "*-PyUnitWizard provides with a unique simple API to work with quantities and units with different pythonic forms-*\n",
    "\n",
    "Since there are many libraries to work with physical quantities, the same quantity can be stored as different python objects, or in the language of PyUniWizard, with different forms, thanks to the method `pyunitwizard.quantity()`:"
   ]
  },
  {
   "cell_type": "code",
   "execution_count": 1,
   "metadata": {},
   "outputs": [],
   "source": [
    "import pyunitwizard as puw\n",
    "import numpy as np\n",
    "\n",
    "puw.configure.load_library(['pint', 'simtk.unit'])"
   ]
  },
  {
   "cell_type": "code",
   "execution_count": 2,
   "metadata": {},
   "outputs": [],
   "source": [
    "q = puw.quantity(value=3.0, unit='joules', form='simtk.unit')"
   ]
  },
  {
   "cell_type": "markdown",
   "metadata": {},
   "source": [
    "The form name of a quantity variable can be obtained with the method `pyunitwizard.get_form()`:"
   ]
  },
  {
   "cell_type": "code",
   "execution_count": 3,
   "metadata": {},
   "outputs": [
    {
     "data": {
      "text/plain": [
       "'simtk.unit'"
      ]
     },
     "execution_count": 3,
     "metadata": {},
     "output_type": "execute_result"
    }
   ],
   "source": [
    "puw.get_form(q)"
   ]
  },
  {
   "cell_type": "markdown",
   "metadata": {},
   "source": [
    "And the value and unit of a quantity can be obtained with `pyunitwizard.get_value()` and `pyunitwizard.get_unit()`:"
   ]
  },
  {
   "cell_type": "code",
   "execution_count": 4,
   "metadata": {},
   "outputs": [
    {
     "data": {
      "text/plain": [
       "3.0"
      ]
     },
     "execution_count": 4,
     "metadata": {},
     "output_type": "execute_result"
    }
   ],
   "source": [
    "puw.get_value(q)"
   ]
  },
  {
   "cell_type": "code",
   "execution_count": 5,
   "metadata": {},
   "outputs": [
    {
     "data": {
      "text/plain": [
       "Unit({ScaledUnit(factor=1.0, master=meter*newton, name='joule', symbol='J'): 1.0})"
      ]
     },
     "execution_count": 5,
     "metadata": {},
     "output_type": "execute_result"
    }
   ],
   "source": [
    "puw.get_unit(q)"
   ]
  },
  {
   "cell_type": "markdown",
   "metadata": {},
   "source": [
    "Let's see other examples of how to use `pyunitwizard.quantity()` to make quantities:"
   ]
  },
  {
   "cell_type": "code",
   "execution_count": 6,
   "metadata": {},
   "outputs": [
    {
     "data": {
      "text/html": [
       "<table><tbody><tr><th>Magnitude</th><td style='text-align:left;'><pre>[0 1 2]</pre></td></tr><tr><th>Units</th><td style='text-align:left;'>angstrom</td></tr></tbody></table>"
      ],
      "text/latex": [
       "$\\begin{pmatrix}0 & 1 & 2\\end{pmatrix}\\ \\mathrm{angstrom}$"
      ],
      "text/plain": [
       "array([0, 1, 2]) <Unit('angstrom')>"
      ]
     },
     "execution_count": 6,
     "metadata": {},
     "output_type": "execute_result"
    }
   ],
   "source": [
    "q = puw.quantity([0,1,2], 'angstroms', form='pint')\n",
    "q"
   ]
  },
  {
   "cell_type": "code",
   "execution_count": 7,
   "metadata": {},
   "outputs": [
    {
     "data": {
      "text/html": [
       "<table><tbody><tr><th>Magnitude</th><td style='text-align:left;'><pre>[[[0.0 0.0 0.0]<br>  [0.0 0.0 0.0]<br>  [0.0 0.0 0.0]<br>  [0.0 0.0 0.0]<br>  [0.0 0.0 0.0]<br>  [0.0 0.0 0.0]]<br><br> [[0.0 0.0 0.0]<br>  [0.0 0.0 0.0]<br>  [0.0 0.0 0.0]<br>  [0.0 0.0 0.0]<br>  [0.0 0.0 0.0]<br>  [0.0 0.0 0.0]]]</pre></td></tr><tr><th>Units</th><td style='text-align:left;'>nanosecond/picosecond</td></tr></tbody></table>"
      ],
      "text/latex": [
       "$arr[,0,:,:] = \\begin{pmatrix}0.0 & 0.0 & 0.0\\\\ \n",
       "0.0 & 0.0 & 0.0\\\\ \n",
       "0.0 & 0.0 & 0.0\\\\ \n",
       "0.0 & 0.0 & 0.0\\\\ \n",
       "0.0 & 0.0 & 0.0\\\\ \n",
       "0.0 & 0.0 & 0.0\\end{pmatrix}\n",
       "arr[,1,:,:] = \\begin{pmatrix}0.0 & 0.0 & 0.0\\\\ \n",
       "0.0 & 0.0 & 0.0\\\\ \n",
       "0.0 & 0.0 & 0.0\\\\ \n",
       "0.0 & 0.0 & 0.0\\\\ \n",
       "0.0 & 0.0 & 0.0\\\\ \n",
       "0.0 & 0.0 & 0.0\\end{pmatrix}\\ \\frac{\\mathrm{nanosecond}}{\\mathrm{picosecond}}$"
      ],
      "text/plain": [
       "array([[[0., 0., 0.],\n",
       "        [0., 0., 0.],\n",
       "        [0., 0., 0.],\n",
       "        [0., 0., 0.],\n",
       "        [0., 0., 0.],\n",
       "        [0., 0., 0.]],\n",
       "\n",
       "       [[0., 0., 0.],\n",
       "        [0., 0., 0.],\n",
       "        [0., 0., 0.],\n",
       "        [0., 0., 0.],\n",
       "        [0., 0., 0.],\n",
       "        [0., 0., 0.]]]) <Unit('nanosecond / picosecond')>"
      ]
     },
     "execution_count": 7,
     "metadata": {},
     "output_type": "execute_result"
    }
   ],
   "source": [
    "q = puw.quantity(np.zeros(shape=[2,6,3]), 'ns/ps', form='pint')\n",
    "q"
   ]
  },
  {
   "cell_type": "code",
   "execution_count": null,
   "metadata": {},
   "outputs": [],
   "source": [
    "q = puw.quantity('1.0 ns/ps', form='simtk.unit')\n",
    "q"
   ]
  },
  {
   "cell_type": "markdown",
   "metadata": {},
   "source": [
    "Units can be created in a similar way with `pyunitwizard.unit()`:"
   ]
  },
  {
   "cell_type": "code",
   "execution_count": null,
   "metadata": {},
   "outputs": [],
   "source": [
    "u = puw.unit('kcal/mol', form='pint')\n",
    "u"
   ]
  },
  {
   "cell_type": "code",
   "execution_count": null,
   "metadata": {},
   "outputs": [],
   "source": [
    "puw.get_form(u)"
   ]
  },
  {
   "cell_type": "code",
   "execution_count": null,
   "metadata": {},
   "outputs": [],
   "source": [
    "u = puw.unit('N/nm**2', form='simtk.unit')\n",
    "u"
   ]
  },
  {
   "cell_type": "markdown",
   "metadata": {},
   "source": [
    "And two auxiliary methods, `pyunitwizard.is_quantity()` and `pyunitwizard.is_unit()`, can be used to check if a variable is a quantity or a unit object no matter their form:"
   ]
  },
  {
   "cell_type": "code",
   "execution_count": null,
   "metadata": {},
   "outputs": [],
   "source": [
    "puw.is_quantity(q)"
   ]
  },
  {
   "cell_type": "code",
   "execution_count": null,
   "metadata": {},
   "outputs": [],
   "source": [
    "puw.is_quantity(u)"
   ]
  },
  {
   "cell_type": "code",
   "execution_count": null,
   "metadata": {},
   "outputs": [],
   "source": [
    "puw.is_unit(u)"
   ]
  },
  {
   "cell_type": "markdown",
   "metadata": {},
   "source": [
    "Finnally, quantities and units with different forms can be translated into strings with a unique method: `pyunitwizard.to_string()`."
   ]
  },
  {
   "cell_type": "code",
   "execution_count": null,
   "metadata": {},
   "outputs": [],
   "source": [
    "puw.to_string(q)"
   ]
  },
  {
   "cell_type": "code",
   "execution_count": null,
   "metadata": {},
   "outputs": [],
   "source": [
    "puw.to_string(u)"
   ]
  },
  {
   "cell_type": "markdown",
   "metadata": {},
   "source": [
    "Additionally, given that some of the libraries supported by PyUnitWizard, as pint, can parse strings to make quantities, this wizard takes advantage of this great functionality to convert strings to any quantity form (see section ['Working with strings'](Strings.ipynb)):"
   ]
  },
  {
   "cell_type": "code",
   "execution_count": null,
   "metadata": {},
   "outputs": [],
   "source": [
    "puw.string_to_quantity('10.0 Å -0.5 nm', to_form='simtk.unit')"
   ]
  },
  {
   "cell_type": "code",
   "execution_count": null,
   "metadata": {},
   "outputs": [],
   "source": [
    "puw.string_to_quantity('1.0 mol/L + 3.5 mol/dL', to_form='pint')"
   ]
  },
  {
   "cell_type": "markdown",
   "metadata": {},
   "source": [
    "Or to any unit form:"
   ]
  },
  {
   "cell_type": "code",
   "execution_count": null,
   "metadata": {},
   "outputs": [],
   "source": [
    "puw.string_to_unit('(mol/L)/picosecond', to_form='pint')"
   ]
  }
 ],
 "metadata": {
  "kernelspec": {
   "display_name": "Python 3",
   "language": "python",
   "name": "python3"
  },
  "language_info": {
   "codemirror_mode": {
    "name": "ipython",
    "version": 3
   },
   "file_extension": ".py",
   "mimetype": "text/x-python",
   "name": "python",
   "nbconvert_exporter": "python",
   "pygments_lexer": "ipython3",
   "version": "3.7.10"
  }
 },
 "nbformat": 4,
 "nbformat_minor": 4
}
