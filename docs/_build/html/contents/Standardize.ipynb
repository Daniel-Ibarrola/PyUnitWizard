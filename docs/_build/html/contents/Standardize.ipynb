{
 "cells": [
  {
   "cell_type": "code",
   "execution_count": 1,
   "metadata": {},
   "outputs": [],
   "source": [
    "%load_ext autoreload\n",
    "%autoreload 2"
   ]
  },
  {
   "cell_type": "markdown",
   "metadata": {},
   "source": [
    "# Standardize"
   ]
  },
  {
   "cell_type": "code",
   "execution_count": 2,
   "metadata": {},
   "outputs": [],
   "source": [
    "import pyunitwizard as puw\n",
    "puw.configure.load_libraries(['pint', 'simtk.unit'])\n",
    "puw.configure.set_default_form('pint')\n",
    "puw.configure.set_standard_units(['nm', 'ps', 'K', 'mole', 'amu', 'e',\n",
    "                                 'kcal/mol', 'N/nm**2', 'N', 'degrees'])"
   ]
  },
  {
   "cell_type": "code",
   "execution_count": 3,
   "metadata": {},
   "outputs": [
    {
     "data": {
      "text/plain": [
       "{'nm': {'[L]': 1,\n",
       "  '[M]': 0,\n",
       "  '[T]': 0,\n",
       "  '[K]': 0,\n",
       "  '[mol]': 0,\n",
       "  '[A]': 0,\n",
       "  '[Cd]': 0},\n",
       " 'ps': {'[L]': 0,\n",
       "  '[M]': 0,\n",
       "  '[T]': 1,\n",
       "  '[K]': 0,\n",
       "  '[mol]': 0,\n",
       "  '[A]': 0,\n",
       "  '[Cd]': 0},\n",
       " 'K': {'[L]': 0,\n",
       "  '[M]': 0,\n",
       "  '[T]': 0,\n",
       "  '[K]': 1,\n",
       "  '[mol]': 0,\n",
       "  '[A]': 0,\n",
       "  '[Cd]': 0},\n",
       " 'mole': {'[L]': 0,\n",
       "  '[M]': 0,\n",
       "  '[T]': 0,\n",
       "  '[K]': 0,\n",
       "  '[mol]': 1,\n",
       "  '[A]': 0,\n",
       "  '[Cd]': 0},\n",
       " 'amu': {'[L]': 0,\n",
       "  '[M]': 1,\n",
       "  '[T]': 0,\n",
       "  '[K]': 0,\n",
       "  '[mol]': 0,\n",
       "  '[A]': 0,\n",
       "  '[Cd]': 0},\n",
       " 'e': {'[L]': 0,\n",
       "  '[M]': 0,\n",
       "  '[T]': 1,\n",
       "  '[K]': 0,\n",
       "  '[mol]': 0,\n",
       "  '[A]': 1,\n",
       "  '[Cd]': 0},\n",
       " 'kcal/mol': {'[L]': 2,\n",
       "  '[M]': 1,\n",
       "  '[T]': -2,\n",
       "  '[K]': 0,\n",
       "  '[mol]': -1,\n",
       "  '[A]': 0,\n",
       "  '[Cd]': 0},\n",
       " 'N/nm**2': {'[L]': -1,\n",
       "  '[M]': 1,\n",
       "  '[T]': -2,\n",
       "  '[K]': 0,\n",
       "  '[mol]': 0,\n",
       "  '[A]': 0,\n",
       "  '[Cd]': 0},\n",
       " 'N': {'[L]': 1,\n",
       "  '[M]': 1,\n",
       "  '[T]': -2,\n",
       "  '[K]': 0,\n",
       "  '[mol]': 0,\n",
       "  '[A]': 0,\n",
       "  '[Cd]': 0},\n",
       " 'degrees': {'[L]': 0,\n",
       "  '[M]': 0,\n",
       "  '[T]': 0,\n",
       "  '[K]': 0,\n",
       "  '[mol]': 0,\n",
       "  '[A]': 0,\n",
       "  '[Cd]': 0}}"
      ]
     },
     "execution_count": 3,
     "metadata": {},
     "output_type": "execute_result"
    }
   ],
   "source": [
    "puw.configure.get_standard_units()"
   ]
  },
  {
   "cell_type": "code",
   "execution_count": 4,
   "metadata": {},
   "outputs": [
    {
     "data": {
      "text/plain": [
       "{'nm': array([1., 0., 0., 0., 0., 0., 0.]),\n",
       " 'ps': array([0., 0., 1., 0., 0., 0., 0.]),\n",
       " 'K': array([0., 0., 0., 1., 0., 0., 0.]),\n",
       " 'mole': array([0., 0., 0., 0., 1., 0., 0.]),\n",
       " 'amu': array([0., 1., 0., 0., 0., 0., 0.])}"
      ]
     },
     "execution_count": 4,
     "metadata": {},
     "output_type": "execute_result"
    }
   ],
   "source": [
    "puw.configure.default.dimensional_fundamental_standards"
   ]
  },
  {
   "cell_type": "code",
   "execution_count": 5,
   "metadata": {},
   "outputs": [
    {
     "data": {
      "text/plain": [
       "{'e': array([0., 0., 1., 0., 0., 1., 0.]),\n",
       " 'kcal/mol': array([ 2.,  1., -2.,  0., -1.,  0.,  0.]),\n",
       " 'N/nm**2': array([-1.,  1., -2.,  0.,  0.,  0.,  0.]),\n",
       " 'N': array([ 1.,  1., -2.,  0.,  0.,  0.,  0.])}"
      ]
     },
     "execution_count": 5,
     "metadata": {},
     "output_type": "execute_result"
    }
   ],
   "source": [
    "puw.configure.default.dimensional_combinations_standards"
   ]
  },
  {
   "cell_type": "code",
   "execution_count": 6,
   "metadata": {},
   "outputs": [
    {
     "data": {
      "text/plain": [
       "{'degrees': array([0., 0., 0., 0., 0., 0., 0.])}"
      ]
     },
     "execution_count": 6,
     "metadata": {},
     "output_type": "execute_result"
    }
   ],
   "source": [
    "puw.configure.default.adimensional_standards"
   ]
  },
  {
   "cell_type": "code",
   "execution_count": 7,
   "metadata": {},
   "outputs": [
    {
     "data": {
      "text/plain": [
       "{'nm': array([1., 0., 0., 0., 0., 0., 0.]),\n",
       " 'ps': array([0., 0., 1., 0., 0., 0., 0.]),\n",
       " 'K': array([0., 0., 0., 1., 0., 0., 0.]),\n",
       " 'mole': array([0., 0., 0., 0., 1., 0., 0.]),\n",
       " 'amu': array([0., 1., 0., 0., 0., 0., 0.]),\n",
       " 'e': array([0., 0., 1., 0., 0., 1., 0.])}"
      ]
     },
     "execution_count": 7,
     "metadata": {},
     "output_type": "execute_result"
    }
   ],
   "source": [
    "puw.configure.default.tentative_base_standards"
   ]
  },
  {
   "cell_type": "code",
   "execution_count": 8,
   "metadata": {},
   "outputs": [
    {
     "name": "stdout",
     "output_type": "stream",
     "text": [
      "0.12499999999999997 nanometer / picosecond as pint quantity\n"
     ]
    }
   ],
   "source": [
    "q = puw.quantity(450, 'km/hour', form='simtk.unit')\n",
    "output = puw.standardize(q)\n",
    "print('{} as {} quantity'.format(output, puw.get_form(output)))"
   ]
  },
  {
   "cell_type": "code",
   "execution_count": 9,
   "metadata": {},
   "outputs": [
    {
     "name": "stdout",
     "output_type": "stream",
     "text": [
      "0.3346080305927342 kilocalorie / mole as pint quantity\n"
     ]
    }
   ],
   "source": [
    "q = puw.quantity(1.4, 'kJ/mol')\n",
    "output = puw.standardize(q)\n",
    "print('{} as {} quantity'.format(output, puw.get_form(output)))"
   ]
  },
  {
   "cell_type": "code",
   "execution_count": 10,
   "metadata": {},
   "outputs": [
    {
     "name": "stdout",
     "output_type": "stream",
     "text": [
      "250.0 newton / nanometer ** 2 as pint quantity\n"
     ]
    }
   ],
   "source": [
    "q = puw.quantity(0.250, 'kN/nm**2')\n",
    "output = puw.standardize(q)\n",
    "print('{} as {} quantity'.format(output, puw.get_form(output)))"
   ]
  },
  {
   "cell_type": "code",
   "execution_count": 11,
   "metadata": {},
   "outputs": [
    {
     "name": "stdout",
     "output_type": "stream",
     "text": [
      "1.627328285268e-26 newton as pint quantity\n"
     ]
    }
   ],
   "source": [
    "q = puw.quantity(9.8, 'amu*m/s**2')\n",
    "output = puw.standardize(q)\n",
    "print('{} as {} quantity'.format(output, puw.get_form(output)))"
   ]
  },
  {
   "cell_type": "code",
   "execution_count": 12,
   "metadata": {},
   "outputs": [],
   "source": [
    "puw.configure.set_standard_units(['nm', 'ps', 'K', 'kcal', 'mol'])"
   ]
  },
  {
   "cell_type": "code",
   "execution_count": 13,
   "metadata": {},
   "outputs": [
    {
     "data": {
      "text/plain": [
       "{'nm': array([1., 0., 0., 0., 0., 0., 0.]),\n",
       " 'ps': array([0., 0., 1., 0., 0., 0., 0.]),\n",
       " 'K': array([0., 0., 0., 1., 0., 0., 0.]),\n",
       " 'mol': array([0., 0., 0., 0., 1., 0., 0.])}"
      ]
     },
     "execution_count": 13,
     "metadata": {},
     "output_type": "execute_result"
    }
   ],
   "source": [
    "puw.configure.default.dimensional_fundamental_standards"
   ]
  },
  {
   "cell_type": "code",
   "execution_count": 14,
   "metadata": {},
   "outputs": [
    {
     "data": {
      "text/plain": [
       "{'kcal': array([ 2.,  1., -2.,  0.,  0.,  0.,  0.])}"
      ]
     },
     "execution_count": 14,
     "metadata": {},
     "output_type": "execute_result"
    }
   ],
   "source": [
    "puw.configure.default.dimensional_combinations_standards"
   ]
  },
  {
   "cell_type": "code",
   "execution_count": 15,
   "metadata": {},
   "outputs": [
    {
     "data": {
      "text/plain": [
       "{}"
      ]
     },
     "execution_count": 15,
     "metadata": {},
     "output_type": "execute_result"
    }
   ],
   "source": [
    "puw.configure.default.adimensional_standards"
   ]
  },
  {
   "cell_type": "code",
   "execution_count": 16,
   "metadata": {},
   "outputs": [
    {
     "data": {
      "text/plain": [
       "{'nm': array([1., 0., 0., 0., 0., 0., 0.]),\n",
       " 'ps': array([0., 0., 1., 0., 0., 0., 0.]),\n",
       " 'K': array([0., 0., 0., 1., 0., 0., 0.]),\n",
       " 'mol': array([0., 0., 0., 0., 1., 0., 0.]),\n",
       " 'kcal': array([ 2.,  1., -2.,  0.,  0.,  0.,  0.])}"
      ]
     },
     "execution_count": 16,
     "metadata": {},
     "output_type": "execute_result"
    }
   ],
   "source": [
    "puw.configure.default.tentative_base_standards"
   ]
  },
  {
   "cell_type": "code",
   "execution_count": 17,
   "metadata": {},
   "outputs": [
    {
     "name": "stdout",
     "output_type": "stream",
     "text": [
      "0.3346080305927342 kilocalorie / mole as pint quantity\n"
     ]
    }
   ],
   "source": [
    "q = puw.quantity(1.4, 'kJ/mol')\n",
    "output = puw.standardize(q)\n",
    "print('{} as {} quantity'.format(output, puw.get_form(output)))"
   ]
  },
  {
   "cell_type": "code",
   "execution_count": null,
   "metadata": {},
   "outputs": [],
   "source": []
  }
 ],
 "metadata": {
  "kernelspec": {
   "display_name": "Python 3",
   "language": "python",
   "name": "python3"
  },
  "language_info": {
   "codemirror_mode": {
    "name": "ipython",
    "version": 3
   },
   "file_extension": ".py",
   "mimetype": "text/x-python",
   "name": "python",
   "nbconvert_exporter": "python",
   "pygments_lexer": "ipython3",
   "version": "3.7.10"
  }
 },
 "nbformat": 4,
 "nbformat_minor": 4
}
