{
 "cells": [
  {
   "cell_type": "markdown",
   "metadata": {},
   "source": [
    "# Working with strings\n",
    "*A quantity can be created from a string expression, but not all libraries understand the same syntaxis and vocabulary*\n",
    "\n",
    "Some python libraries to work with physical quantities, as pint, are very efficient parsing strings. And some other probably not. And in addition, it is probable that not all of them use the samy syntaxis. With PyUnitWizard a unique parser and syntaxis can be used not matter the desired form of the quantity. Let's show how the methods `pyunitwizard.string_to_quantity()` and `pyunitwizard.string_to_unit()` work:"
   ]
  },
  {
   "cell_type": "code",
   "execution_count": 2,
   "metadata": {},
   "outputs": [],
   "source": [
    "import pyunitwizard as puw\n",
    "puw.configure.load_libraries(['pint', 'simtk.unit'])\n",
    "puw.configure.set_default_form('simtk.unit')"
   ]
  },
  {
   "cell_type": "code",
   "execution_count": 4,
   "metadata": {},
   "outputs": [
    {
     "data": {
      "text/plain": [
       "Quantity(value=4.0, unit=liter/second)"
      ]
     },
     "execution_count": 4,
     "metadata": {},
     "output_type": "execute_result"
    }
   ],
   "source": [
    "puw.string_to_quantity('(2 litres + 20 dL)/second')"
   ]
  },
  {
   "cell_type": "code",
   "execution_count": 10,
   "metadata": {},
   "outputs": [
    {
     "data": {
      "text/plain": [
       "Quantity(value=2.0, unit=newton/(meter**2))"
      ]
     },
     "execution_count": 10,
     "metadata": {},
     "output_type": "execute_result"
    }
   ],
   "source": [
    "puw.string_to_quantity('2 newtons per square meter', parser='pint')"
   ]
  },
  {
   "cell_type": "code",
   "execution_count": 15,
   "metadata": {},
   "outputs": [
    {
     "data": {
      "text/html": [
       "1.5 kilocalorie/mole"
      ],
      "text/latex": [
       "$1.5\\ \\frac{\\mathrm{kilocalorie}}{\\mathrm{mole}}$"
      ],
      "text/plain": [
       "1.5 <Unit('kilocalorie / mole')>"
      ]
     },
     "execution_count": 15,
     "metadata": {},
     "output_type": "execute_result"
    }
   ],
   "source": [
    "puw.string_to_quantity('1.5 kcal / mole', parser='pint', to_form='pint')"
   ]
  },
  {
   "cell_type": "code",
   "execution_count": 24,
   "metadata": {},
   "outputs": [
    {
     "data": {
      "text/html": [
       "1/kelvin"
      ],
      "text/latex": [
       "$\\frac{1}{\\mathrm{kelvin}}$"
      ],
      "text/plain": [
       "<Unit('1 / kelvin')>"
      ]
     },
     "execution_count": 24,
     "metadata": {},
     "output_type": "execute_result"
    }
   ],
   "source": [
    "puw.string_to_unit('kelvin**(-1)', parser='pint', to_form='pint')"
   ]
  },
  {
   "cell_type": "markdown",
   "metadata": {},
   "source": [
    "And with the method `pyunitwizard.to_string()` the inverse translation can be performed:"
   ]
  },
  {
   "cell_type": "code",
   "execution_count": 25,
   "metadata": {},
   "outputs": [],
   "source": [
    "q = puw.string_to_quantity('2 newtons per square meter', parser='pint')"
   ]
  },
  {
   "cell_type": "code",
   "execution_count": 26,
   "metadata": {},
   "outputs": [
    {
     "data": {
      "text/plain": [
       "'2.0 N/(m**2)'"
      ]
     },
     "execution_count": 26,
     "metadata": {},
     "output_type": "execute_result"
    }
   ],
   "source": [
    "puw.to_string(q)"
   ]
  },
  {
   "cell_type": "code",
   "execution_count": 33,
   "metadata": {},
   "outputs": [],
   "source": [
    "u = puw.string_to_unit('kelvin**(-1)')"
   ]
  },
  {
   "cell_type": "code",
   "execution_count": 34,
   "metadata": {},
   "outputs": [
    {
     "data": {
      "text/plain": [
       "'/kelvin'"
      ]
     },
     "execution_count": 34,
     "metadata": {},
     "output_type": "execute_result"
    }
   ],
   "source": [
    "puw.to_string(u)"
   ]
  }
 ],
 "metadata": {
  "kernelspec": {
   "display_name": "Python 3",
   "language": "python",
   "name": "python3"
  },
  "language_info": {
   "codemirror_mode": {
    "name": "ipython",
    "version": 3
   },
   "file_extension": ".py",
   "mimetype": "text/x-python",
   "name": "python",
   "nbconvert_exporter": "python",
   "pygments_lexer": "ipython3",
   "version": "3.7.10"
  }
 },
 "nbformat": 4,
 "nbformat_minor": 4
}
