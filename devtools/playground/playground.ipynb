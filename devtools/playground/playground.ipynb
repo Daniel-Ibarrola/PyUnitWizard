{
 "cells": [
  {
   "cell_type": "code",
   "execution_count": 1,
   "id": "424ae21b-17e7-4927-9956-0dca4e6954dd",
   "metadata": {},
   "outputs": [],
   "source": [
    "%load_ext autoreload\n",
    "%autoreload 2"
   ]
  },
  {
   "cell_type": "code",
   "execution_count": 2,
   "id": "3436b80c-cee2-4a6c-a918-406652adc776",
   "metadata": {},
   "outputs": [],
   "source": [
    "import pyunitwizard as puw"
   ]
  },
  {
   "cell_type": "code",
   "execution_count": 3,
   "id": "167a93fa-f1f4-45b4-b5dc-b3d340cf7fe0",
   "metadata": {},
   "outputs": [],
   "source": [
    "puw.configure.load_library(['simtk.unit'])"
   ]
  },
  {
   "cell_type": "code",
   "execution_count": 9,
   "id": "73ff47d2-c1fa-4a58-8064-476377343d87",
   "metadata": {},
   "outputs": [
    {
     "name": "stdout",
     "output_type": "stream",
     "text": [
      "1 m\n"
     ]
    },
    {
     "data": {
      "text/plain": [
       "True"
      ]
     },
     "execution_count": 9,
     "metadata": {},
     "output_type": "execute_result"
    }
   ],
   "source": [
    "puw.similarity('1 meter', '1 meter')"
   ]
  },
  {
   "cell_type": "code",
   "execution_count": 10,
   "id": "ea71a18c-938f-4c0f-bb67-502612a79dc0",
   "metadata": {},
   "outputs": [
    {
     "data": {
      "text/plain": [
       "False"
      ]
     },
     "execution_count": 10,
     "metadata": {},
     "output_type": "execute_result"
    }
   ],
   "source": [
    "puw.similarity('1 meter', '1 centimeter')"
   ]
  },
  {
   "cell_type": "code",
   "execution_count": null,
   "id": "b7cc1e22-bc19-4216-b680-5ef3ccb20419",
   "metadata": {},
   "outputs": [],
   "source": []
  }
 ],
 "metadata": {
  "kernelspec": {
   "display_name": "Python 3",
   "language": "python",
   "name": "python3"
  },
  "language_info": {
   "codemirror_mode": {
    "name": "ipython",
    "version": 3
   },
   "file_extension": ".py",
   "mimetype": "text/x-python",
   "name": "python",
   "nbconvert_exporter": "python",
   "pygments_lexer": "ipython3",
   "version": "3.7.10"
  }
 },
 "nbformat": 4,
 "nbformat_minor": 5
}
