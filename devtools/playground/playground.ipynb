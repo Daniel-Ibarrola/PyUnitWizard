{
 "cells": [
  {
   "cell_type": "code",
   "execution_count": 1,
   "id": "424ae21b-17e7-4927-9956-0dca4e6954dd",
   "metadata": {},
   "outputs": [],
   "source": [
    "%load_ext autoreload\n",
    "%autoreload 2"
   ]
  },
  {
   "cell_type": "code",
   "execution_count": 2,
   "id": "3436b80c-cee2-4a6c-a918-406652adc776",
   "metadata": {},
   "outputs": [],
   "source": [
    "import pyunitwizard as puw"
   ]
  },
  {
   "cell_type": "code",
   "execution_count": 4,
   "id": "888c2fe0-05e5-4be4-b9c8-4e22b785b3a6",
   "metadata": {},
   "outputs": [
    {
     "data": {
      "text/plain": [
       "[]"
      ]
     },
     "execution_count": 4,
     "metadata": {},
     "output_type": "execute_result"
    }
   ],
   "source": [
    "puw.configure.get_libraries_loaded()"
   ]
  },
  {
   "cell_type": "code",
   "execution_count": 5,
   "id": "132e92c0-84bc-47b1-bd43-028ad4bf479d",
   "metadata": {},
   "outputs": [
    {
     "data": {
      "text/plain": [
       "[]"
      ]
     },
     "execution_count": 5,
     "metadata": {},
     "output_type": "execute_result"
    }
   ],
   "source": [
    "puw.configure.get_parsers_loaded()"
   ]
  },
  {
   "cell_type": "code",
   "execution_count": 14,
   "id": "2a452239-4519-4a58-aa2b-560c5a5a2e0b",
   "metadata": {},
   "outputs": [
    {
     "data": {
      "text/plain": [
       "'simtk.unit'"
      ]
     },
     "execution_count": 14,
     "metadata": {},
     "output_type": "execute_result"
    }
   ],
   "source": [
    "puw.configure.get_default_form()"
   ]
  },
  {
   "cell_type": "code",
   "execution_count": 15,
   "id": "b2d0f863-f62b-4537-903a-e3e1c4b329c6",
   "metadata": {},
   "outputs": [
    {
     "ename": "AttributeError",
     "evalue": "module 'pyunitwizard.configure' has no attribute 'get_default_parser'",
     "output_type": "error",
     "traceback": [
      "\u001b[0;31m---------------------------------------------------------------------------\u001b[0m",
      "\u001b[0;31mAttributeError\u001b[0m                            Traceback (most recent call last)",
      "\u001b[0;32m<ipython-input-15-f1f663113d53>\u001b[0m in \u001b[0;36m<module>\u001b[0;34m\u001b[0m\n\u001b[0;32m----> 1\u001b[0;31m \u001b[0mpuw\u001b[0m\u001b[0;34m.\u001b[0m\u001b[0mconfigure\u001b[0m\u001b[0;34m.\u001b[0m\u001b[0mget_default_parser\u001b[0m\u001b[0;34m(\u001b[0m\u001b[0;34m)\u001b[0m\u001b[0;34m\u001b[0m\u001b[0;34m\u001b[0m\u001b[0m\n\u001b[0m",
      "\u001b[0;31mAttributeError\u001b[0m: module 'pyunitwizard.configure' has no attribute 'get_default_parser'"
     ]
    }
   ],
   "source": [
    "puw.configure.get_default_parser()"
   ]
  },
  {
   "cell_type": "code",
   "execution_count": 13,
   "id": "167a93fa-f1f4-45b4-b5dc-b3d340cf7fe0",
   "metadata": {},
   "outputs": [],
   "source": [
    "puw.configure.load_library('simtk.unit')"
   ]
  },
  {
   "cell_type": "code",
   "execution_count": null,
   "id": "27c68c47-f99f-42de-bc3e-aa331a09a4cf",
   "metadata": {},
   "outputs": [],
   "source": []
  }
 ],
 "metadata": {
  "kernelspec": {
   "display_name": "Python 3",
   "language": "python",
   "name": "python3"
  },
  "language_info": {
   "codemirror_mode": {
    "name": "ipython",
    "version": 3
   },
   "file_extension": ".py",
   "mimetype": "text/x-python",
   "name": "python",
   "nbconvert_exporter": "python",
   "pygments_lexer": "ipython3",
   "version": "3.7.10"
  }
 },
 "nbformat": 4,
 "nbformat_minor": 5
}
